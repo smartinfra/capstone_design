{
 "cells": [
  {
   "cell_type": "code",
   "execution_count": null,
   "metadata": {
    "colab": {},
    "colab_type": "code",
    "id": "QpGX-8Ba4Cmf",
    "scrolled": false
   },
   "outputs": [],
   "source": [
    "from scipy import io\n",
    "from matplotlib import pyplot as plt\n",
    "%matplotlib inline\n",
    "\n",
    "import tensorflow.compat.v1 as tf\n",
    "import numpy as np\n",
    "import pandas as pd\n",
    "import random\n",
    "\n",
    "tf.disable_v2_behavior()\n",
    "\n",
    "from google.colab import drive\n",
    "drive.mount('/content/drive')"
   ]
  },
  {
   "cell_type": "code",
   "execution_count": null,
   "metadata": {
    "colab": {},
    "colab_type": "code",
    "id": "s1MsyjFN4Cmi"
   },
   "outputs": [],
   "source": [
    "data_list=[]\n",
    "file_names=['2006-05-13.csv','2006-05-14.csv','2006-05-15.csv','2006-05-16.csv','2006-05-17.csv',\n",
    "            '2006-05-18.csv','2006-05-19.csv','2007-12-14.csv','2009-05-05.csv','2011-11-01.csv']\n",
    "\n",
    "for f in file_names:\n",
    "    data=pd.read_csv('/content/drive/My Drive/data/raw_data/'+f)\n",
    "\n",
    "    if f in ['2007-12-14.csv','2009-05-05.csv','2011-11-01.csv']:\n",
    "            q25,q75=np.quantile(data['SJS13'],[0.25,0.75]);print(q25-1.5*(q75-q25),q75+1.5*(q75-q25))\n",
    "            data['SJS13'][data['SJS13']<q25-1.5*(q75-q25)]=np.nan#3000\n",
    "            data['SJS13'][data['SJS13']>q75+1.5*(q75-q25)]=np.nan#2700\n",
    "    data=data.interpolate(method='linear')\n",
    "    data=data.iloc[90:-90]\n",
    "    data_list.append(data)"
   ]
  },
  {
   "cell_type": "code",
   "execution_count": 6,
   "metadata": {
    "colab": {},
    "colab_type": "code",
    "id": "HmKt7R0Wmi5U"
   },
   "outputs": [],
   "source": [
    "cable_data = np.empty((10, 14, 172620))\n",
    "\n",
    "i = 0\n",
    "for data in data_list:\n",
    "    j = 0\n",
    "    for x in data:\n",
    "        k = 0\n",
    "        for y in data[x]:\n",
    "            if y<=0: cable_data[i][j][k] = np.log(y*-1)*-1\n",
    "            else: cable_data[i][j][k] = np.log(y) \n",
    "            k+=1\n",
    "        j+=1\n",
    "    i+=1"
   ]
  },
  {
   "cell_type": "code",
   "execution_count": null,
   "metadata": {
    "colab": {},
    "colab_type": "code",
    "id": "jU5Xgu8gmi5Y",
    "scrolled": true
   },
   "outputs": [],
   "source": [
    "cable_title = [\"SJS08\", \"SJS09\", \"SJS10\", \"SJS11\", \"SJS12\", \"SJS13\", \"SJS14\",\n",
    "               \"SJX08\", \"SJX09\", \"SJX10\", \"SJX11\", \"SJX12\", \"SJX13\", \"SJX14\"]\n",
    "\n",
    "for i in range(0, 10):\n",
    "    for j in range(0, 14):\n",
    "        plt.figure(figsize=(12,6))\n",
    "        title = file_names[i] + \": \" + cable_title[j]\n",
    "        plt.title(title)\n",
    "        \n",
    "        plt.plot(cable_data[i][j])\n",
    "        plt.show()"
   ]
  },
  {
   "cell_type": "code",
   "execution_count": 8,
   "metadata": {
    "colab": {},
    "colab_type": "code",
    "id": "aLGiO8mH4Cmq"
   },
   "outputs": [],
   "source": [
    "cable_train = np.empty((140, 172620))\n",
    "\n",
    "idx = 0\n",
    "for i in range(0, 10):\n",
    "    for j in range(0, 14):\n",
    "        for k in range(0, 172620):\n",
    "            cable_train[idx][k] = cable_data[i][j][k]\n",
    "        idx += 1"
   ]
  },
  {
   "cell_type": "code",
   "execution_count": null,
   "metadata": {
    "colab": {},
    "colab_type": "code",
    "id": "KCQcTmwFmi5a",
    "scrolled": false
   },
   "outputs": [],
   "source": [
    "!pip install tslearn\n",
    "\n",
    "from tslearn.clustering import TimeSeriesKMeans\n",
    "\n",
    "km = TimeSeriesKMeans(n_clusters=2, verbose=True, random_state=0)\n",
    "y_pred = km.fit_predict(cable_train)\n",
    "\n",
    "y_pred = y_pred.reshape(10, 14)\n",
    "print(y_pred)"
   ]
  },
  {
   "cell_type": "code",
   "execution_count": null,
   "metadata": {
    "colab": {},
    "colab_type": "code",
    "id": "JO7b6aNLmi5d"
   },
   "outputs": [],
   "source": [
    "km = TimeSeriesKMeans(n_clusters=3, verbose=True, random_state=0)\n",
    "y_pred = km.fit_predict(cable_train)\n",
    "\n",
    "y_pred = y_pred.reshape(10, 14)\n",
    "print(y_pred)"
   ]
  },
  {
   "cell_type": "code",
   "execution_count": null,
   "metadata": {
    "colab": {},
    "colab_type": "code",
    "id": "wU3aQXWY4Cmy"
   },
   "outputs": [],
   "source": [
    "km = TimeSeriesKMeans(n_clusters=5, verbose=True, random_state=0)\n",
    "y_pred = km.fit_predict(cable_train)\n",
    "\n",
    "y_pred = y_pred.reshape(10, 14)\n",
    "print(y_pred)"
   ]
  },
  {
   "cell_type": "code",
   "execution_count": null,
   "metadata": {
    "colab": {},
    "colab_type": "code",
    "id": "PpfXF5d64Cm0",
    "scrolled": true
   },
   "outputs": [],
   "source": [
    "km = TimeSeriesKMeans(n_clusters=10, verbose=True, random_state=0)\n",
    "y_pred = km.fit_predict(cable_train)\n",
    "\n",
    "y_pred = y_pred.reshape(10, 14)\n",
    "print(y_pred)"
   ]
  },
  {
   "cell_type": "code",
   "execution_count": 14,
   "metadata": {
    "colab": {},
    "colab_type": "code",
    "id": "gI-raKe_4Cm2"
   },
   "outputs": [],
   "source": [
    "cable_train_dtw = np.empty((140, 959))\n",
    "\n",
    "for i in range(140):\n",
    "    cable_train_dtw[i] = cable_train[i][::180]"
   ]
  },
  {
   "cell_type": "code",
   "execution_count": null,
   "metadata": {
    "colab": {},
    "colab_type": "code",
    "id": "rHP-m7ZUmi5j",
    "scrolled": true
   },
   "outputs": [],
   "source": [
    "dtw_km = TimeSeriesKMeans(n_clusters=2, n_init=2, metric=\"dtw\", verbose=True, max_iter_barycenter=10, random_state=0)\n",
    "y_pred = dtw_km.fit_predict(cable_train_dtw)\n",
    "\n",
    "y_pred = y_pred.reshape(10, 14)\n",
    "print(y_pred)"
   ]
  },
  {
   "cell_type": "code",
   "execution_count": null,
   "metadata": {
    "colab": {},
    "colab_type": "code",
    "id": "Ywz6zh5J4Cm6",
    "scrolled": true
   },
   "outputs": [],
   "source": [
    "dtw_km = TimeSeriesKMeans(n_clusters=3, n_init=2, metric=\"dtw\", verbose=True, max_iter_barycenter=10, random_state=0)\n",
    "y_pred = dtw_km.fit_predict(cable_train_dtw)\n",
    "\n",
    "y_pred = y_pred.reshape(10, 14)\n",
    "print(y_pred)"
   ]
  },
  {
   "cell_type": "code",
   "execution_count": null,
   "metadata": {
    "colab": {},
    "colab_type": "code",
    "id": "ryoJT52kmi5l",
    "scrolled": true
   },
   "outputs": [],
   "source": [
    "dtw_km = TimeSeriesKMeans(n_clusters=5, n_init=2, metric=\"dtw\", verbose=True, max_iter_barycenter=10, random_state=0)\n",
    "y_pred = dtw_km.fit_predict(cable_train_dtw)\n",
    "\n",
    "y_pred = y_pred.reshape(10, 14)\n",
    "print(y_pred)"
   ]
  },
  {
   "cell_type": "code",
   "execution_count": null,
   "metadata": {
    "colab": {},
    "colab_type": "code",
    "id": "DJLtFRFqmi5n",
    "scrolled": true
   },
   "outputs": [],
   "source": [
    "dtw_km = TimeSeriesKMeans(n_clusters=10, n_init=2, metric=\"dtw\", verbose=True, max_iter_barycenter=10, random_state=0)\n",
    "y_pred = dtw_km.fit_predict(cable_train_dtw)\n",
    "\n",
    "y_pred = y_pred.reshape(10, 14)\n",
    "print(y_pred)"
   ]
  },
  {
   "cell_type": "code",
   "execution_count": null,
   "metadata": {
    "colab": {},
    "colab_type": "code",
    "id": "z03epVVi4CnA"
   },
   "outputs": [],
   "source": [
    "dtw_km = TimeSeriesKMeans(n_clusters=2, n_init=2, metric=\"softdtw\", verbose=True, max_iter_barycenter=10, random_state=0)\n",
    "y_pred = dtw_km.fit_predict(cable_train_dtw)\n",
    "\n",
    "y_pred = y_pred.reshape(10, 14)\n",
    "print(y_pred)"
   ]
  },
  {
   "cell_type": "code",
   "execution_count": null,
   "metadata": {
    "colab": {},
    "colab_type": "code",
    "id": "Z_QNcCtjmi5p"
   },
   "outputs": [],
   "source": [
    "dtw_km = TimeSeriesKMeans(n_clusters=3, n_init=2, metric=\"softdtw\", verbose=True, max_iter_barycenter=10, random_state=0)\n",
    "y_pred = dtw_km.fit_predict(cable_train_dtw)\n",
    "\n",
    "y_pred = y_pred.reshape(10, 14)\n",
    "print(y_pred)"
   ]
  },
  {
   "cell_type": "code",
   "execution_count": null,
   "metadata": {
    "colab": {},
    "colab_type": "code",
    "id": "g6o2A7Pumi5r"
   },
   "outputs": [],
   "source": [
    "dtw_km = TimeSeriesKMeans(n_clusters=5, n_init=2, metric=\"softdtw\", verbose=True, max_iter_barycenter=10, random_state=0)\n",
    "y_pred = dtw_km.fit_predict(cable_train_dtw)\n",
    "\n",
    "y_pred = y_pred.reshape(10, 14)\n",
    "print(y_pred)"
   ]
  },
  {
   "cell_type": "code",
   "execution_count": null,
   "metadata": {
    "colab": {},
    "colab_type": "code",
    "id": "R0QkAlZzmi5t",
    "scrolled": true
   },
   "outputs": [],
   "source": [
    "dtw_km = TimeSeriesKMeans(n_clusters=10, n_init=2, metric=\"softdtw\", verbose=True, max_iter_barycenter=10, random_state=0)\n",
    "y_pred = dtw_km.fit_predict(cable_train_dtw)\n",
    "\n",
    "y_pred = y_pred.reshape(10, 14)\n",
    "print(y_pred)"
   ]
  },
  {
   "cell_type": "code",
   "execution_count": null,
   "metadata": {
    "colab": {},
    "colab_type": "code",
    "id": "VhRXL75x4CnH"
   },
   "outputs": [],
   "source": [
    "cable_train_dtw = np.empty((140, 959))\n",
    "\n",
    "for i in range(140):\n",
    "    k = 180\n",
    "    for j in range(959):\n",
    "        x = cable_train[i][:k]\n",
    "        k += 180\n",
    "        cable_train_dtw[i][j] = x.mean()"
   ]
  },
  {
   "cell_type": "code",
   "execution_count": null,
   "metadata": {
    "colab": {},
    "colab_type": "code",
    "id": "Q5wppwZ8mi5x",
    "scrolled": true
   },
   "outputs": [],
   "source": [
    "dtw_km = TimeSeriesKMeans(n_clusters=2, n_init=2, metric=\"dtw\", verbose=True, max_iter_barycenter=10, random_state=0)\n",
    "y_pred = dtw_km.fit_predict(cable_train_dtw)\n",
    "\n",
    "y_pred = y_pred.reshape(10, 14)\n",
    "print(y_pred)"
   ]
  },
  {
   "cell_type": "code",
   "execution_count": null,
   "metadata": {
    "colab": {},
    "colab_type": "code",
    "id": "DuGxzPWzmi50",
    "scrolled": true
   },
   "outputs": [],
   "source": [
    "dtw_km = TimeSeriesKMeans(n_clusters=3, n_init=2, metric=\"dtw\", verbose=True, max_iter_barycenter=10, random_state=0)\n",
    "y_pred = dtw_km.fit_predict(cable_train_dtw)\n",
    "\n",
    "y_pred = y_pred.reshape(10, 14)\n",
    "print(y_pred)"
   ]
  },
  {
   "cell_type": "code",
   "execution_count": null,
   "metadata": {
    "colab": {},
    "colab_type": "code",
    "id": "noBvbChTmi51",
    "scrolled": true
   },
   "outputs": [],
   "source": [
    "dtw_km = TimeSeriesKMeans(n_clusters=5, n_init=2, metric=\"dtw\", verbose=True, max_iter_barycenter=10, random_state=0)\n",
    "y_pred = dtw_km.fit_predict(cable_train_dtw)\n",
    "\n",
    "y_pred = y_pred.reshape(10, 14)\n",
    "print(y_pred)"
   ]
  },
  {
   "cell_type": "code",
   "execution_count": null,
   "metadata": {
    "colab": {},
    "colab_type": "code",
    "id": "Q4eQbmdUmi53",
    "scrolled": true
   },
   "outputs": [],
   "source": [
    "dtw_km = TimeSeriesKMeans(n_clusters=10, n_init=2, metric=\"dtw\", verbose=True, max_iter_barycenter=10, random_state=0)\n",
    "y_pred = dtw_km.fit_predict(cable_train_dtw)\n",
    "\n",
    "y_pred = y_pred.reshape(10, 14)\n",
    "print(y_pred)"
   ]
  },
  {
   "cell_type": "code",
   "execution_count": null,
   "metadata": {
    "colab": {},
    "colab_type": "code",
    "id": "JKi7ul3gmi55"
   },
   "outputs": [],
   "source": [
    "dtw_km = TimeSeriesKMeans(n_clusters=2, n_init=2, metric=\"softdtw\", verbose=True, max_iter_barycenter=10, random_state=0)\n",
    "y_pred = dtw_km.fit_predict(cable_train_dtw)\n",
    "\n",
    "y_pred = y_pred.reshape(10, 14)\n",
    "print(y_pred)"
   ]
  },
  {
   "cell_type": "code",
   "execution_count": null,
   "metadata": {
    "colab": {},
    "colab_type": "code",
    "id": "qevk-2j2mi58"
   },
   "outputs": [],
   "source": [
    "dtw_km = TimeSeriesKMeans(n_clusters=3, n_init=2, metric=\"softdtw\", verbose=True, max_iter_barycenter=10, random_state=0)\n",
    "y_pred = dtw_km.fit_predict(cable_train_dtw)\n",
    "\n",
    "y_pred = y_pred.reshape(10, 14)\n",
    "print(y_pred)"
   ]
  },
  {
   "cell_type": "code",
   "execution_count": null,
   "metadata": {
    "colab": {},
    "colab_type": "code",
    "id": "PYKxvnFqmi5-"
   },
   "outputs": [],
   "source": [
    "dtw_km = TimeSeriesKMeans(n_clusters=5, n_init=2, metric=\"softdtw\", verbose=True, max_iter_barycenter=10, random_state=0)\n",
    "y_pred = dtw_km.fit_predict(cable_train_dtw)\n",
    "\n",
    "y_pred = y_pred.reshape(10, 14)\n",
    "print(y_pred)"
   ]
  },
  {
   "cell_type": "code",
   "execution_count": null,
   "metadata": {
    "colab": {},
    "colab_type": "code",
    "id": "8HRNhfpPmi5_"
   },
   "outputs": [],
   "source": [
    "dtw_km = TimeSeriesKMeans(n_clusters=10, n_init=2, metric=\"softdtw\", verbose=True, max_iter_barycenter=10, random_state=0)\n",
    "y_pred = dtw_km.fit_predict(cable_train_dtw)\n",
    "\n",
    "y_pred = y_pred.reshape(10, 14)\n",
    "print(y_pred)"
   ]
  }
 ],
 "metadata": {
  "colab": {
   "collapsed_sections": [],
   "name": "Clustering.ipynb",
   "provenance": []
  },
  "kernelspec": {
   "display_name": "Python 3",
   "language": "python",
   "name": "python3"
  },
  "language_info": {
   "codemirror_mode": {
    "name": "ipython",
    "version": 3
   },
   "file_extension": ".py",
   "mimetype": "text/x-python",
   "name": "python",
   "nbconvert_exporter": "python",
   "pygments_lexer": "ipython3",
   "version": "3.6.10"
  }
 },
 "nbformat": 4,
 "nbformat_minor": 1
}
